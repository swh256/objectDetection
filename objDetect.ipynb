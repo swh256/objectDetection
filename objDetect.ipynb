{
 "cells": [
  {
   "cell_type": "markdown",
   "metadata": {},
   "source": [
    "### **导入库**"
   ]
  },
  {
   "cell_type": "code",
   "execution_count": 2,
   "metadata": {},
   "outputs": [],
   "source": [
    "# import os\n",
    "# import argparse\n",
    "# from mindspore import context\n",
    "# import mindspore.dataset as ds\n",
    "# import mindspore.dataset.transforms.c_transforms as C\n",
    "# import mindspore.dataset.vision.c_transforms as CV\n",
    "# from mindspore.dataset.vision import Inter\n",
    "# from mindspore import dtype as mstype\n",
    "# import mindspore.nn as nn\n",
    "# import mindspore\n",
    "# from mindspore import Tensor\n",
    "# import numpy as np\n",
    "# from mindspore.common.initializer import Normal\n",
    "# from mindspore.train.callback import ModelCheckpoint, CheckpointConfig\n",
    "# from mindspore.nn import Accuracy\n",
    "# from mindspore.train.callback import LossMonitor\n",
    "# from mindspore import Model\n",
    "import numpy as np \n",
    "import argparse\n",
    "import mindspore\n",
    "from mindspore import context\n",
    "import mindspore.dataset as ds\n",
    "parser = argparse.ArgumentParser(description='MindSpore LeNet Example')\n",
    "parser.add_argument('--device_target', type=str, default=\"CPU\", choices=['Ascend', 'GPU', 'CPU'])\n",
    "\n",
    "args = parser.parse_known_args()[0]\n",
    "context.set_context(mode=context.GRAPH_MODE, device_target=args.device_target)"
   ]
  },
  {
   "cell_type": "code",
   "execution_count": 8,
   "metadata": {},
   "outputs": [
    {
     "name": "stdout",
     "output_type": "stream",
     "text": [
      "<class 'mindspore.common.tensor.Tensor'>\n",
      "1.0\n"
     ]
    }
   ],
   "source": [
    "# 测试 数据集\n",
    "import cv2\n",
    "DATA_DIR = \"/mnt/c/Users/s/OneDrive/doc/course/ML/exp2/data/person_test/\"\n",
    "# train_data =  ds.VOCDataset(DATA_DIR, task=\"Detection\", usage=\"train\", decode=True, shuffle=True)\n",
    "test_data = ds.VOCDataset(DATA_DIR, task=\"Detection\", usage=\"test\", decode=True, shuffle=True)\n",
    "# test_data = test_data.batch(2,True)\n",
    "iterator = test_data.create_dict_iterator()\n",
    "for item in iterator:\n",
    "    # print the data in column1\n",
    "    print( type(item['bbox'].squeeze()[0]))\n",
    "    item['bbox'] = mindspore.Tensor( np.array([[1,1,1,1]]),mindspore.float32)\n",
    "    print( item['bbox'][0][0])\n",
    "    break\n",
    "    \n"
   ]
  },
  {
   "cell_type": "markdown",
   "metadata": {},
   "source": [
    "### **数据预处理**"
   ]
  },
  {
   "cell_type": "code",
   "execution_count": 35,
   "metadata": {},
   "outputs": [
    {
     "name": "stdout",
     "output_type": "stream",
     "text": [
      "/mnt/c/Users/s/OneDrive/doc/course/ML/exp2\n"
     ]
    }
   ],
   "source": [
    "def prepare_data(data_dir, batch_size=32):\n",
    "    train_data =  ds.VOCDataset(DATA_DIR, task=\"Detection\", usage=\"train\", decode=True, shuffle=True)\n",
    "    test_data = ds.VOCDataset(DATA_DIR, task=\"Detection\", usage=\"test\", decode=True, shuffle=True)\n",
    "    train_data = train_data.batch(batch_size,drop_remainder=True)\n",
    "\n",
    "    return (train_data,test_data)"
   ]
  },
  {
   "cell_type": "markdown",
   "metadata": {},
   "source": [
    "### **建立模型**"
   ]
  },
  {
   "cell_type": "code",
   "execution_count": null,
   "metadata": {},
   "outputs": [],
   "source": []
  }
 ],
 "metadata": {
  "kernelspec": {
   "display_name": "Python 3",
   "language": "python",
   "name": "python3"
  },
  "language_info": {
   "codemirror_mode": {
    "name": "ipython",
    "version": 3
   },
   "file_extension": ".py",
   "mimetype": "text/x-python",
   "name": "python",
   "nbconvert_exporter": "python",
   "pygments_lexer": "ipython3",
   "version": "3.7.5"
  },
  "orig_nbformat": 4
 },
 "nbformat": 4,
 "nbformat_minor": 2
}